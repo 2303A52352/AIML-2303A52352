{
  "nbformat": 4,
  "nbformat_minor": 0,
  "metadata": {
    "colab": {
      "provenance": [],
      "authorship_tag": "ABX9TyMNZnRPpLYTKkXokUtvF+Dg",
      "include_colab_link": true
    },
    "kernelspec": {
      "name": "python3",
      "display_name": "Python 3"
    },
    "language_info": {
      "name": "python"
    }
  },
  "cells": [
    {
      "cell_type": "markdown",
      "metadata": {
        "id": "view-in-github",
        "colab_type": "text"
      },
      "source": [
        "<a href=\"https://colab.research.google.com/github/2303A52352/AIML-2303A52352/blob/main/2303A52352_36_18.ipynb\" target=\"_parent\"><img src=\"https://colab.research.google.com/assets/colab-badge.svg\" alt=\"Open In Colab\"/></a>"
      ]
    },
    {
      "cell_type": "markdown",
      "source": [
        "QUESTION-18"
      ],
      "metadata": {
        "id": "8LJm-M41Bj0N"
      }
    },
    {
      "cell_type": "markdown",
      "source": [
        "\n",
        "Prediction of Gender by Names given to the new born babies\n",
        "\n",
        " Q1. Identify the Top-10 popular names given to babies\n",
        " Q2. Find the Max and Min count of babies with similar\n",
        " names.\n",
        " Q3.Name the gender which has acquired the most names\n",
        " among the babies\n",
        " Q4.Identify the Top-5 probabilities of occurrence of Male and Gender By Name\n",
        " Female babies\n",
        " Q5.Name the Top-5 names with highest probabilities.\n",
        " Q6. Apply either Classification or Clustering or Regression Model and evaluate the accuracy, error metrics of the model.\n"
      ],
      "metadata": {
        "id": "xXnes5WnBnOV"
      }
    },
    {
      "cell_type": "markdown",
      "source": [
        "QUESTION-1\n",
        " Identify the Top-10 popular names given to babies"
      ],
      "metadata": {
        "id": "Yje0nguWFk1N"
      }
    },
    {
      "cell_type": "code",
      "source": [
        "import pandas as pd\n",
        "from sklearn.model_selection import train_test_split\n",
        "from sklearn.ensemble import RandomForestClassifier\n",
        "from sklearn.metrics import accuracy_score, classification_report\n",
        "\n",
        "# Load the dataset\n",
        "data = pd.read_csv('/content/gender+by+name.zip')\n",
        "\n",
        "# Q1: Identify the Top-10 popular names given to babies\n",
        "top_10_names = data.nlargest(10, 'Count')[['Name', 'Count']]\n",
        "print(\"Q1: Top-10 Popular Names\")\n",
        "print(top_10_names)"
      ],
      "metadata": {
        "colab": {
          "base_uri": "https://localhost:8080/"
        },
        "id": "wn7OkHr5Dlke",
        "outputId": "ec5a0a1d-8386-4272-d68e-c53623aaa1a2"
      },
      "execution_count": 7,
      "outputs": [
        {
          "output_type": "stream",
          "name": "stdout",
          "text": [
            "Q1: Top-10 Popular Names\n",
            "      Name    Count\n",
            "0    James  5304407\n",
            "1     John  5260831\n",
            "2   Robert  4970386\n",
            "3  Michael  4579950\n",
            "4  William  4226608\n",
            "5     Mary  4169663\n",
            "6    David  3787547\n",
            "7   Joseph  2695970\n",
            "8  Richard  2638187\n",
            "9  Charles  2433540\n"
          ]
        }
      ]
    },
    {
      "cell_type": "markdown",
      "source": [
        "QUESTION-2\n",
        "Find the Max and Min count of babies with similar names"
      ],
      "metadata": {
        "id": "4-oi7cx-Fj92"
      }
    },
    {
      "cell_type": "code",
      "source": [
        "# Q2: Find the Max and Min count of babies with similar names\n",
        "max_count = data['Count'].max()\n",
        "min_count = data['Count'].min()\n",
        "print(\"\\nQ2: Max and Min Count\")\n",
        "print(f\"Max Count: {max_count}, Min Count: {min_count}\")"
      ],
      "metadata": {
        "colab": {
          "base_uri": "https://localhost:8080/"
        },
        "id": "BxjShGyTDuqN",
        "outputId": "344295c3-062e-487b-892b-d466d8292199"
      },
      "execution_count": 8,
      "outputs": [
        {
          "output_type": "stream",
          "name": "stdout",
          "text": [
            "\n",
            "Q2: Max and Min Count\n",
            "Max Count: 5304407, Min Count: 1\n"
          ]
        }
      ]
    },
    {
      "cell_type": "markdown",
      "source": [
        "QUESTION-3\n",
        ".Name the gender which has acquired the most names among the babies"
      ],
      "metadata": {
        "id": "YmoEv8u9FyPt"
      }
    },
    {
      "cell_type": "code",
      "source": [
        "# Q3: Name the gender which has acquired the most names among the babies\n",
        "gender_counts = data['Gender'].value_counts()\n",
        "dominant_gender = gender_counts.idxmax()\n",
        "dominant_gender_count = gender_counts.max()\n",
        "print(\"\\nQ3: Gender with Most Names\")\n",
        "print(f\"Gender: {dominant_gender}, Count: {dominant_gender_count}\")"
      ],
      "metadata": {
        "colab": {
          "base_uri": "https://localhost:8080/"
        },
        "id": "7CgZjfy5Dx1d",
        "outputId": "ac768b6f-515e-4d3d-d2e1-bbee56f385a7"
      },
      "execution_count": 9,
      "outputs": [
        {
          "output_type": "stream",
          "name": "stdout",
          "text": [
            "\n",
            "Q3: Gender with Most Names\n",
            "Gender: F, Count: 89749\n"
          ]
        }
      ]
    },
    {
      "cell_type": "markdown",
      "source": [
        "QUESTION-4\n",
        "Identify the Top-5 probabilities of occurrence of Male and Gender By Name Female babies"
      ],
      "metadata": {
        "id": "mtGVuSYvF4uf"
      }
    },
    {
      "cell_type": "code",
      "source": [
        "# Q4: Identify the Top-5 probabilities of occurrence for Male and Female babies\n",
        "top_5_male_probs = data[data['Gender'] == 'M'].nlargest(5, 'Probability')[['Name', 'Probability']]\n",
        "top_5_female_probs = data[data['Gender'] == 'F'].nlargest(5, 'Probability')[['Name', 'Probability']]\n",
        "print(\"\\nQ4: Top-5 Male Probabilities\")\n",
        "print(top_5_male_probs)\n",
        "print(\"\\nQ4: Top-5 Female Probabilities\")\n",
        "print(top_5_female_probs)"
      ],
      "metadata": {
        "colab": {
          "base_uri": "https://localhost:8080/"
        },
        "id": "Q8HIzK2bD0gc",
        "outputId": "4042d7ca-ffed-41d9-8931-edf3b212e403"
      },
      "execution_count": 10,
      "outputs": [
        {
          "output_type": "stream",
          "name": "stdout",
          "text": [
            "\n",
            "Q4: Top-5 Male Probabilities\n",
            "      Name  Probability\n",
            "0    James     0.014517\n",
            "1     John     0.014398\n",
            "2   Robert     0.013603\n",
            "3  Michael     0.012534\n",
            "4  William     0.011567\n",
            "\n",
            "Q4: Top-5 Female Probabilities\n",
            "         Name  Probability\n",
            "5        Mary     0.011411\n",
            "14  Elizabeth     0.004664\n",
            "15   Patricia     0.004401\n",
            "16   Jennifer     0.004336\n",
            "19      Linda     0.004052\n"
          ]
        }
      ]
    },
    {
      "cell_type": "markdown",
      "source": [
        "QUESTION-5\n",
        ".Name the Top-5 names with highest probabilities"
      ],
      "metadata": {
        "id": "OAuWI82tF-El"
      }
    },
    {
      "cell_type": "code",
      "source": [
        "# Q5: Name the Top-5 names with the highest probabilities (regardless of gender)\n",
        "top_5_highest_probs = data.nlargest(5, 'Probability')[['Name', 'Gender', 'Probability']]\n",
        "print(\"\\nQ5: Top-5 Names with Highest Probabilities\")\n",
        "print(top_5_highest_probs)"
      ],
      "metadata": {
        "colab": {
          "base_uri": "https://localhost:8080/"
        },
        "id": "6JbScJWiD3J2",
        "outputId": "46406023-f2a1-467a-9424-87f1f8142045"
      },
      "execution_count": 11,
      "outputs": [
        {
          "output_type": "stream",
          "name": "stdout",
          "text": [
            "\n",
            "Q5: Top-5 Names with Highest Probabilities\n",
            "      Name Gender  Probability\n",
            "0    James      M     0.014517\n",
            "1     John      M     0.014398\n",
            "2   Robert      M     0.013603\n",
            "3  Michael      M     0.012534\n",
            "4  William      M     0.011567\n"
          ]
        }
      ]
    },
    {
      "cell_type": "markdown",
      "source": [
        "QUESTION-6\n",
        " Apply either Classification or Clustering or Regression Model and evaluate the accuracy, error metrics of the model."
      ],
      "metadata": {
        "id": "exGXkvSqGHp9"
      }
    },
    {
      "cell_type": "code",
      "source": [
        "# Q6: Apply Classification Model and Evaluate Accuracy, Error Metrics\n",
        "# Prepare the data for classification\n",
        "data['Gender'] = data['Gender'].map({'M': 0, 'F': 1})  # Convert gender to binary (M=0, F=1)\n",
        "X = data[['Count', 'Probability']]\n",
        "y = data['Gender']\n",
        "\n",
        "# Split the dataset\n",
        "X_train, X_test, y_train, y_test = train_test_split(X, y, test_size=0.2, random_state=42)\n",
        "\n",
        "# Train a Random Forest Classifier\n",
        "model = RandomForestClassifier(random_state=42)\n",
        "model.fit(X_train, y_train)\n",
        "\n",
        "# Evaluate the model\n",
        "y_pred = model.predict(X_test)\n",
        "accuracy = accuracy_score(y_test, y_pred)\n",
        "report = classification_report(y_test, y_pred)\n",
        "\n",
        "print(\"\\nQ6: Classification Model Evaluation\")\n",
        "print(f\"Accuracy: {accuracy}\")\n",
        "print(\"Classification Report:\\n\", report)"
      ],
      "metadata": {
        "colab": {
          "base_uri": "https://localhost:8080/"
        },
        "id": "8K8-ea5qD8VM",
        "outputId": "0bd3744a-ea5c-4cd9-88c1-7f2a83d612b6"
      },
      "execution_count": 12,
      "outputs": [
        {
          "output_type": "stream",
          "name": "stdout",
          "text": [
            "\n",
            "Q6: Classification Model Evaluation\n",
            "Accuracy: 0.6105452570109323\n",
            "Classification Report:\n",
            "               precision    recall  f1-score   support\n",
            "\n",
            "           0       0.40      0.01      0.02     11425\n",
            "           1       0.61      0.99      0.76     18029\n",
            "\n",
            "    accuracy                           0.61     29454\n",
            "   macro avg       0.51      0.50      0.39     29454\n",
            "weighted avg       0.53      0.61      0.47     29454\n",
            "\n"
          ]
        }
      ]
    }
  ]
}